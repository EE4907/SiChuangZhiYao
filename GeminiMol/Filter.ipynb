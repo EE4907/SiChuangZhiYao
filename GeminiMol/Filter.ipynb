{
 "cells": [
  {
   "cell_type": "code",
   "execution_count": 1,
   "id": "00966ac0",
   "metadata": {},
   "outputs": [
    {
     "name": "stdout",
     "output_type": "stream",
     "text": [
      "补集已保存到 Result.csv\n",
      "3000\n"
     ]
    }
   ],
   "source": [
    "import pandas as pd\n",
    "\n",
    "# 用户输入文件名\n",
    "file1 = \"inh_merged_results.csv\"\n",
    "file2 = \"Agonist_search.csv\"\n",
    "output_file = \"Result.csv\"\n",
    "\n",
    "# 读取CSV文件\n",
    "df1 = pd.read_csv(file1)\n",
    "df2 = pd.read_csv(file2)\n",
    "\n",
    "# 确保列名为\"SMILES\"\n",
    "if \"SMILES\" not in df1.columns or \"SMILES\" not in df2.columns:\n",
    "    raise ValueError('两个文件都必须包含名为 \"SMILES\" 的列！')\n",
    "\n",
    "# 获取第二个文件的SMILES集合\n",
    "smiles_set2 = set(df2[\"SMILES\"])\n",
    "\n",
    "# 过滤第一个文件中SMILES不在第二个文件的行\n",
    "df_diff = df1[~df1[\"SMILES\"].isin(smiles_set2)]\n",
    "\n",
    "# 保存结果\n",
    "df_diff.to_csv(output_file, index=False, encoding='utf-8-sig')\n",
    "print(f\"补集已保存到 {output_file}\")\n",
    "print(len(df_diff))"
   ]
  }
 ],
 "metadata": {
  "kernelspec": {
   "display_name": "ana",
   "language": "python",
   "name": "python3"
  },
  "language_info": {
   "codemirror_mode": {
    "name": "ipython",
    "version": 3
   },
   "file_extension": ".py",
   "mimetype": "text/x-python",
   "name": "python",
   "nbconvert_exporter": "python",
   "pygments_lexer": "ipython3",
   "version": "3.9.21"
  }
 },
 "nbformat": 4,
 "nbformat_minor": 5
}
