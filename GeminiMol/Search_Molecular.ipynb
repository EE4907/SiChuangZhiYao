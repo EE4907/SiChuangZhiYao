{
 "cells": [
  {
   "cell_type": "code",
   "execution_count": null,
   "id": "2e26fbc8",
   "metadata": {},
   "outputs": [],
   "source": [
    "import pandas as pd\n",
    "from rdkit import Chem\n",
    "from rdkit.Chem import Descriptors\n",
    "from rdkit.Chem import AllChem\n",
    "import numpy as np\n",
    "from sklearn.cluster import KMeans\n",
    "import numpy as np\n",
    "import matplotlib.pyplot as plt\n",
    "from tqdm import tqdm\n",
    "from rdkit.Chem import rdMolDescriptors, DataStructs"
   ]
  },
  {
   "cell_type": "code",
   "execution_count": null,
   "id": "e2400670",
   "metadata": {},
   "outputs": [],
   "source": [
    "input_file = 'filtered_output.csv'\n",
    "output_valid = 'filtered_valid_smiles.csv'\n",
    "output_invalid = 'filtered_invalid_smiles.csv'\n",
    "\n",
    "valid = []\n",
    "invalid = []\n",
    "\n",
    "with open(input_file, 'r') as fin:\n",
    "    for line in fin:\n",
    "        smi = line.strip()\n",
    "        # 跳过空行\n",
    "        if not smi:\n",
    "            continue\n",
    "        mol = Chem.MolFromSmiles(smi)\n",
    "        if mol is not None:\n",
    "            valid.append(smi)\n",
    "        else:\n",
    "            invalid.append(smi)\n",
    "\n",
    "# 写入合法SMILES\n",
    "with open(output_valid, 'w') as fout:\n",
    "    for smi in valid:\n",
    "        fout.write(smi + '\\n')\n",
    "\n",
    "# 写入无效SMILES\n",
    "with open(output_invalid, 'w') as fout:\n",
    "    for smi in invalid:\n",
    "        fout.write(smi + '\\n')\n",
    "\n",
    "print(f\"共处理 {len(valid) + len(invalid)} 条SMILES\")\n",
    "print(f\"合法SMILES数量: {len(valid)}\")\n",
    "print(f\"无效SMILES数量: {len(invalid)}\")\n",
    "print(\"过滤完成！\")"
   ]
  },
  {
   "cell_type": "code",
   "execution_count": null,
   "id": "a86ed0f3",
   "metadata": {},
   "outputs": [],
   "source": [
    "smiles_list = pd.read_csv('filtered_valid_smiles.csv', header=None)[0].tolist()"
   ]
  },
  {
   "cell_type": "code",
   "execution_count": null,
   "id": "2f4084d4",
   "metadata": {},
   "outputs": [],
   "source": [
    "smiles_list"
   ]
  },
  {
   "cell_type": "code",
   "execution_count": null,
   "id": "65e7137a",
   "metadata": {},
   "outputs": [],
   "source": [
    "def mol_weight(sm):\n",
    "    m = Chem.MolFromSmiles(sm)\n",
    "    if m is None:\n",
    "        return None\n",
    "    return Descriptors.MolWt(m)\n",
    "\n",
    "mol_weights = [mol_weight(sm) for sm in smiles_list]\n",
    "valid_idx = [i for i, mw in enumerate(mol_weights) if mw is not None]\n",
    "smiles_list = [smiles_list[i] for i in valid_idx]\n",
    "mol_weights = [mol_weights[i] for i in valid_idx]"
   ]
  },
  {
   "cell_type": "code",
   "execution_count": null,
   "id": "e72706b2",
   "metadata": {},
   "outputs": [],
   "source": [
    "df = pd.DataFrame({'smiles': smiles_list, 'mol_weight': mol_weights})\n",
    "\n",
    "# 设每组5w，算分组数\n",
    "group_size = 1500\n",
    "num_groups = int(np.ceil(len(df) / group_size))\n",
    "\n",
    "# 用qcut等频分箱，labels为整数编号\n",
    "df['mw_group'], bins = pd.qcut(df['mol_weight'], q=num_groups, labels=False, retbins=True, duplicates='drop')\n",
    "\n",
    "# 统计每组分子数量\n",
    "group_counts = df['mw_group'].value_counts().sort_index()\n"
   ]
  },
  {
   "cell_type": "code",
   "execution_count": null,
   "id": "95f25699",
   "metadata": {},
   "outputs": [],
   "source": [
    "print(\"分子量等频分箱后每组分子数量：\")\n",
    "for i, cnt in group_counts.items():\n",
    "    low = bins[i]\n",
    "    high = bins[i+1]\n",
    "    print(f\"Group {i}: 分子量区间 [{low:.1f}, {high:.1f}), 数量: {cnt}\")"
   ]
  },
  {
   "cell_type": "code",
   "execution_count": null,
   "id": "4ec68f0b",
   "metadata": {},
   "outputs": [],
   "source": [
    "import warnings\n",
    "warnings.filterwarnings(\"ignore\")\n",
    "from rdkit import RDLogger\n",
    "RDLogger.DisableLog('rdApp.*')\n"
   ]
  },
  {
   "cell_type": "code",
   "execution_count": null,
   "id": "c06b96cd",
   "metadata": {},
   "outputs": [],
   "source": [
    "# 准备保存聚类结果\n",
    "df['cluster'] = -1\n",
    "\n",
    "# 对每一组做聚类，并用tqdm显示进度\n",
    "i = 0\n",
    "for group in tqdm(sorted(df['mw_group'].unique()), desc=\"分组聚类进度\"):\n",
    "    sub_idx = df[df['mw_group'] == group].index\n",
    "    sub_smiles = df.loc[sub_idx, 'smiles'].tolist()\n",
    "\n",
    "    # 生成指纹，tqdm可监控指纹生成\n",
    "    fps = []\n",
    "    for sm in tqdm(sub_smiles, desc=f\"指纹计算-组{group}\", leave=False):\n",
    "        mol = Chem.MolFromSmiles(sm)\n",
    "        if mol is not None:\n",
    "            fp = AllChem.GetMorganFingerprintAsBitVect(mol, 2, nBits=2048)\n",
    "            fps.append(np.array(fp))\n",
    "        else:\n",
    "            fps.append(np.zeros(2048))  # 不应该出现，但兜底\n",
    "\n",
    "    fps = np.array(fps)\n",
    "\n",
    "    # 聚类，5类\n",
    "    if len(fps) < 5:\n",
    "        labels = [0] * len(fps)\n",
    "    else:\n",
    "        kmeans = KMeans(n_clusters=5, random_state=0)\n",
    "        labels = kmeans.fit_predict(fps)\n",
    "\n",
    "    df.loc[sub_idx, 'cluster'] = labels + 5 * i + 1\n",
    "    i += 1\n",
    "\n",
    "# 保存结果\n",
    "df.to_csv('clustered_smiles.csv', index=False)\n",
    "print(\"全部分组聚类完成，结果已保存。\")"
   ]
  },
  {
   "cell_type": "code",
   "execution_count": null,
   "id": "87ac0a4f",
   "metadata": {},
   "outputs": [],
   "source": [
    "df_sampled = df.groupby('cluster', group_keys=False).apply(lambda x: x.sample(1, random_state=42))\n",
    "\n",
    "# 重置索引，并只保存你要的字段（比如smiles、cluster）\n",
    "df_sampled = df_sampled.reset_index(drop=True)\n",
    "df_sampled.to_csv('cluster_representatives.csv', index=False)\n",
    "\n",
    "print(f\"已保存每个类一个分子的代表到 cluster_representatives.csv，总数: {len(df_sampled)}\")"
   ]
  }
 ],
 "metadata": {
  "kernelspec": {
   "display_name": "Python 3",
   "language": "python",
   "name": "python3"
  },
  "language_info": {
   "codemirror_mode": {
    "name": "ipython",
    "version": 3
   },
   "file_extension": ".py",
   "mimetype": "text/x-python",
   "name": "python",
   "nbconvert_exporter": "python",
   "pygments_lexer": "ipython3",
   "version": "3.10.18"
  }
 },
 "nbformat": 4,
 "nbformat_minor": 5
}
